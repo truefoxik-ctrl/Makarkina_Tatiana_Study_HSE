{
 "cells": [
  {
   "cell_type": "markdown",
   "id": "50ebfa36-8d6e-4779-b5bd-30a38956b961",
   "metadata": {},
   "source": [
    "# Задание 1"
   ]
  },
  {
   "cell_type": "code",
   "execution_count": 1,
   "id": "a8257aca-3486-4fb0-a834-2be2bf2500b2",
   "metadata": {},
   "outputs": [],
   "source": [
    "from datetime import datetime"
   ]
  },
  {
   "cell_type": "code",
   "execution_count": 2,
   "id": "93eb9a6e-cb2e-44f6-afc6-a59e044314ca",
   "metadata": {},
   "outputs": [],
   "source": [
    "the_moscow_times = 'Wednesday, October 2, 2002'\n",
    "the_guardian = 'Friday, 11.10.13'\n",
    "daily_news = 'Thursday, 18 August 1977'"
   ]
  },
  {
   "cell_type": "code",
   "execution_count": 3,
   "id": "f8a4600a-9831-4ccc-bfe7-250888a58547",
   "metadata": {},
   "outputs": [
    {
     "name": "stdout",
     "output_type": "stream",
     "text": [
      "The Moscow Times: 2002-10-02 00:00:00\n",
      "The Guardian: 2013-10-11 00:00:00\n",
      "Daily News: 1977-08-18 00:00:00\n"
     ]
    }
   ],
   "source": [
    "date_one = datetime.strptime(the_moscow_times, '%A, %B %d, %Y')\n",
    "date_two = datetime.strptime(the_guardian, '%A, %d.%m.%y')\n",
    "date_three = datetime.strptime(daily_news, '%A, %d %B %Y')\n",
    "\n",
    "print(f'The Moscow Times: {date_one}\\nThe Guardian: {date_two}\\nDaily News: {date_three}')"
   ]
  },
  {
   "cell_type": "markdown",
   "id": "b71db832-06c5-4452-b948-0a73fe488a9c",
   "metadata": {},
   "source": [
    "# Задание 2"
   ]
  },
  {
   "cell_type": "code",
   "execution_count": 4,
   "id": "cf8491e8-ae17-48de-9e8f-edb3768c173d",
   "metadata": {},
   "outputs": [],
   "source": [
    "def date_range(start_date, end_date):\n",
    "    from datetime import datetime, timedelta\n",
    "\n",
    "    try:\n",
    "        start = datetime.strptime(start_date, '%Y-%m-%d')\n",
    "        end = datetime.strptime(end_date, '%Y-%m-%d')\n",
    "        \n",
    "        if start > end:\n",
    "            return []\n",
    "\n",
    "    except:\n",
    "        return []\n",
    "\n",
    "    while start <= end:\n",
    "        print(start.strftime('%Y-%m-%d'))\n",
    "        \n",
    "        start += timedelta(days=1)\n",
    "        \n",
    "    return"
   ]
  },
  {
   "cell_type": "code",
   "execution_count": 5,
   "id": "ba2f972d-73a3-4eb9-a19a-2ecd820c6eee",
   "metadata": {},
   "outputs": [
    {
     "name": "stdout",
     "output_type": "stream",
     "text": [
      "2022-01-01\n",
      "2022-01-02\n",
      "2022-01-03\n"
     ]
    }
   ],
   "source": [
    "date_range('2022-01-01', '2022-01-03')"
   ]
  },
  {
   "cell_type": "code",
   "execution_count": 6,
   "id": "fe6c6e6d-41b7-4a2a-99a1-19ff0a59613d",
   "metadata": {},
   "outputs": [
    {
     "data": {
      "text/plain": [
       "[]"
      ]
     },
     "execution_count": 6,
     "metadata": {},
     "output_type": "execute_result"
    }
   ],
   "source": [
    "date_range('2022-03-01', '2022-01-03')"
   ]
  },
  {
   "cell_type": "code",
   "execution_count": 7,
   "id": "b6ce81f3-2bd3-4cf7-9fc8-40788b3e2c6f",
   "metadata": {},
   "outputs": [
    {
     "data": {
      "text/plain": [
       "[]"
      ]
     },
     "execution_count": 7,
     "metadata": {},
     "output_type": "execute_result"
    }
   ],
   "source": [
    "date_range('20-03-2001', '28-03-2001')"
   ]
  }
 ],
 "metadata": {
  "kernelspec": {
   "display_name": "Python 3 (ipykernel)",
   "language": "python",
   "name": "python3"
  },
  "language_info": {
   "codemirror_mode": {
    "name": "ipython",
    "version": 3
   },
   "file_extension": ".py",
   "mimetype": "text/x-python",
   "name": "python",
   "nbconvert_exporter": "python",
   "pygments_lexer": "ipython3",
   "version": "3.11.7"
  }
 },
 "nbformat": 4,
 "nbformat_minor": 5
}
