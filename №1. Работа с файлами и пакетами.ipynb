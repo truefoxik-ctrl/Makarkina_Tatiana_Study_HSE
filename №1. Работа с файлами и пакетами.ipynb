{
 "cells": [
  {
   "cell_type": "markdown",
   "id": "3a2bf3ca-0c75-486a-8629-94d7c23b9fcb",
   "metadata": {},
   "source": [
    "# Задание 1"
   ]
  },
  {
   "cell_type": "code",
   "execution_count": 6,
   "id": "b78dfc1b-0834-4241-baa2-f5d1180a9128",
   "metadata": {},
   "outputs": [],
   "source": [
    "import json"
   ]
  },
  {
   "cell_type": "code",
   "execution_count": 7,
   "id": "34e4b0bc-cab8-40ac-a05b-6e6e107898c9",
   "metadata": {},
   "outputs": [],
   "source": [
    "new_dict = {}"
   ]
  },
  {
   "cell_type": "code",
   "execution_count": 8,
   "id": "fe1bdb90-b2c0-4705-b28b-db2adb1024af",
   "metadata": {},
   "outputs": [],
   "source": [
    "with open(r'C:\\Users\\truef\\example\\purchase_log.txt', encoding='utf-8') as file:\n",
    "    for i, line in enumerate(file):\n",
    "        new_line = json.loads(line)\n",
    "        new_dict[new_line['user_id']] = new_line['category']"
   ]
  },
  {
   "cell_type": "code",
   "execution_count": 9,
   "id": "3a3f7936-0e6a-403d-83be-3196aa8e67ca",
   "metadata": {},
   "outputs": [
    {
     "data": {
      "text/plain": [
       "dict"
      ]
     },
     "execution_count": 9,
     "metadata": {},
     "output_type": "execute_result"
    }
   ],
   "source": [
    "type(new_dict)"
   ]
  }
 ],
 "metadata": {
  "kernelspec": {
   "display_name": "Python 3 (ipykernel)",
   "language": "python",
   "name": "python3"
  },
  "language_info": {
   "codemirror_mode": {
    "name": "ipython",
    "version": 3
   },
   "file_extension": ".py",
   "mimetype": "text/x-python",
   "name": "python",
   "nbconvert_exporter": "python",
   "pygments_lexer": "ipython3",
   "version": "3.11.7"
  }
 },
 "nbformat": 4,
 "nbformat_minor": 5
}
