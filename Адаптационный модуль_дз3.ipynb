{
 "cells": [
  {
   "cell_type": "markdown",
   "id": "5d54d53c-8d24-4fc9-9e13-146f822270da",
   "metadata": {},
   "source": [
    "# Задание 1"
   ]
  },
  {
   "cell_type": "code",
   "execution_count": 1,
   "id": "0374513a-ea99-4e76-961b-8f18ffb3ba34",
   "metadata": {},
   "outputs": [],
   "source": [
    "def geometki(ids):\n",
    "    total_list=[]\n",
    "    for i in ids.values():\n",
    "        total_list+=i\n",
    "\n",
    "        set_from_list = set(total_list)\n",
    "    return set_from_list"
   ]
  },
  {
   "cell_type": "code",
   "execution_count": 2,
   "id": "1d9976fe-186e-478a-ba3f-7fa2363b4069",
   "metadata": {},
   "outputs": [],
   "source": [
    "id = {'user1': [214, 213, 213, 15, 213],\n",
    "'user2': [54, 54, 119, 120, 119],\n",
    "'user3': [213, 98, 98, 35]}"
   ]
  },
  {
   "cell_type": "code",
   "execution_count": 3,
   "id": "1c79dc71-661f-450c-9099-c034536502c3",
   "metadata": {},
   "outputs": [
    {
     "data": {
      "text/plain": [
       "{15, 35, 54, 98, 119, 120, 213, 214}"
      ]
     },
     "execution_count": 3,
     "metadata": {},
     "output_type": "execute_result"
    }
   ],
   "source": [
    "geometki(id)"
   ]
  },
  {
   "cell_type": "markdown",
   "id": "3c7ec9d1-78a4-43f5-bb61-d70ec4f86781",
   "metadata": {},
   "source": [
    "# Задание 2"
   ]
  },
  {
   "cell_type": "code",
   "execution_count": 4,
   "id": "ae06ab1a-d40d-4967-91d4-42d4d67efc85",
   "metadata": {},
   "outputs": [],
   "source": [
    "def words_in_queries(queries):\n",
    "    \n",
    "    template = []\n",
    "    \n",
    "    for item in queries:\n",
    "        template.append(len(item.split(' ')))\n",
    "\n",
    "    new_list = []\n",
    "    \n",
    "    for z in sorted(set(template)):\n",
    "        new_list.append(round((template.count(z) / len(template) * 100), 2)) \n",
    "\n",
    "    elems = sorted(set(template))\n",
    "\n",
    "    if len(elems) == 0:\n",
    "        print('Нет поисковых запросов')\n",
    "\n",
    "    elif len(elems) == 1:\n",
    "        print(f'Все поисковые запросы состоят из {elems[0]} слов')\n",
    "        \n",
    "    elif len(elems) == 2:\n",
    "        print(f'Поисковых запросов, содержащих {elems[0]} слова: {new_list[0]}%\\nПоисковых запросов, содержащих {elems[1]} слова: {new_list[1]}%')\n",
    "        \n",
    "    elif len(elems) == 3:\n",
    "        print(f'Поисковых запросов, содержащих {elems[0]} слова: {new_list[0]}%\\nПоисковых запросов, содержащих {elems[1]} слова: {new_list[1]}%\\nПоисковых запросов, содержащих {elems[2]} слова: {new_list[2]}%')\n",
    "\n",
    "    elif len(elems) > 3:\n",
    "        print(f'Поисковых запросов, содержащих {elems[0]} слова: {new_list[0]}%\\nПоисковых запросов, содержащих {elems[1]} слова: {new_list[1]}%\\nПоисковых запросов, содержащих {elems[2]} слова: {new_list[2]}%\\nОстальные запросы содержат более {elems[2]} слов')"
   ]
  },
  {
   "cell_type": "code",
   "execution_count": 5,
   "id": "93d5805c-a828-4c5d-84b3-e6741de22078",
   "metadata": {},
   "outputs": [],
   "source": [
    "query = ['смотреть сериалы онлайн', 'новости спорта', 'афиша кино', 'курс доллара', 'сериалы этим летом', 'курс по питону', 'сериалы про спорт']\n",
    "que = ['смотреть сериалы онлайн бесплатно', 'новости', 'афиша кино', 'курс доллара сегодня']\n",
    "q = []"
   ]
  },
  {
   "cell_type": "code",
   "execution_count": 6,
   "id": "571e308b-984c-4c25-9575-389a5d1ffe29",
   "metadata": {},
   "outputs": [
    {
     "name": "stdout",
     "output_type": "stream",
     "text": [
      "Поисковых запросов, содержащих 2 слова: 42.86%\n",
      "Поисковых запросов, содержащих 3 слова: 57.14%\n"
     ]
    }
   ],
   "source": [
    "words_in_queries(query)"
   ]
  },
  {
   "cell_type": "code",
   "execution_count": 7,
   "id": "16ebeab3-e0c8-404a-903d-ab52342d68ff",
   "metadata": {},
   "outputs": [
    {
     "name": "stdout",
     "output_type": "stream",
     "text": [
      "Нет поисковых запросов\n"
     ]
    }
   ],
   "source": [
    "words_in_queries(q)"
   ]
  },
  {
   "cell_type": "code",
   "execution_count": 8,
   "id": "8610eb67-ad2b-43c5-9898-cfc0241e245d",
   "metadata": {},
   "outputs": [
    {
     "name": "stdout",
     "output_type": "stream",
     "text": [
      "Поисковых запросов, содержащих 1 слова: 25.0%\n",
      "Поисковых запросов, содержащих 2 слова: 25.0%\n",
      "Поисковых запросов, содержащих 3 слова: 25.0%\n",
      "Остальные запросы содержат более 3 слов\n"
     ]
    }
   ],
   "source": [
    "words_in_queries(que)"
   ]
  }
 ],
 "metadata": {
  "kernelspec": {
   "display_name": "Python 3 (ipykernel)",
   "language": "python",
   "name": "python3"
  },
  "language_info": {
   "codemirror_mode": {
    "name": "ipython",
    "version": 3
   },
   "file_extension": ".py",
   "mimetype": "text/x-python",
   "name": "python",
   "nbconvert_exporter": "python",
   "pygments_lexer": "ipython3",
   "version": "3.11.7"
  }
 },
 "nbformat": 4,
 "nbformat_minor": 5
}
