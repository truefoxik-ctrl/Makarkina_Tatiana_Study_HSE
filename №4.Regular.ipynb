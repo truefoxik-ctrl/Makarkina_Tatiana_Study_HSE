{
 "cells": [
  {
   "cell_type": "markdown",
   "id": "4e932f39-e0bc-40cb-a074-794ff8c95965",
   "metadata": {},
   "source": [
    "# Задание 1"
   ]
  },
  {
   "cell_type": "code",
   "execution_count": 1,
   "id": "758cecf8-becb-47a5-a48c-dddffe7adb5c",
   "metadata": {},
   "outputs": [],
   "source": [
    "import re"
   ]
  },
  {
   "cell_type": "code",
   "execution_count": 2,
   "id": "37ac9c18-6511-43df-ab32-24310df1ca9c",
   "metadata": {},
   "outputs": [],
   "source": [
    "def check_valid(car_number):\n",
    "    pattern = r'([АВЕКМ-ОР-УХ]{1})(\\d{3})([АВЕКМ-ОР-УХ]{2})(\\d{2,3})'\n",
    "    result = re.findall(pattern, car_number)\n",
    "\n",
    "    total_result = re.search(pattern, car_number)\n",
    "\n",
    "    if result == []:\n",
    "        print('Номер не валиден')\n",
    "    else:\n",
    "        print(f'Номер {car_number[:6]} валиден\\nРегион {total_result.group(4)}')"
   ]
  },
  {
   "cell_type": "code",
   "execution_count": 3,
   "id": "ffb9e893-0df0-49fa-872f-e54193f90531",
   "metadata": {},
   "outputs": [
    {
     "name": "stdout",
     "output_type": "stream",
     "text": [
      "Номер А222ВС валиден\n",
      "Регион 96\n"
     ]
    }
   ],
   "source": [
    "check_valid('А222ВС96')"
   ]
  },
  {
   "cell_type": "code",
   "execution_count": 4,
   "id": "b302615d-1c10-4956-b35f-85b57a6b742f",
   "metadata": {},
   "outputs": [
    {
     "name": "stdout",
     "output_type": "stream",
     "text": [
      "Номер не валиден\n"
     ]
    }
   ],
   "source": [
    "check_valid('АБ22ВС96')"
   ]
  },
  {
   "cell_type": "code",
   "execution_count": 5,
   "id": "0f0f0a98-b2b3-4d9b-80ff-f28b812bb93c",
   "metadata": {},
   "outputs": [
    {
     "name": "stdout",
     "output_type": "stream",
     "text": [
      "Номер Х345НР валиден\n",
      "Регион 797\n"
     ]
    }
   ],
   "source": [
    "check_valid('Х345НР797')"
   ]
  },
  {
   "cell_type": "markdown",
   "id": "ff1712a6-d0d9-45ee-a19e-3e75e1c8463b",
   "metadata": {},
   "source": [
    "# Задание 2"
   ]
  },
  {
   "cell_type": "code",
   "execution_count": 10,
   "id": "59c5b890-82fa-4dbc-9941-cc0549219da1",
   "metadata": {},
   "outputs": [],
   "source": [
    "def repeat(stroka):\n",
    "    template = re.compile(r'(\\w+)(\\s+\\1)+')\n",
    "    return template.sub(r'\\1', stroka)"
   ]
  },
  {
   "cell_type": "code",
   "execution_count": 11,
   "id": "63ecc3ed-655a-4494-9e40-ff31602edcda",
   "metadata": {},
   "outputs": [
    {
     "data": {
      "text/plain": [
       "'Напишите функцию, которая будет удалять все последовательные повторы слов из заданной строки при помощи регулярных выражений'"
      ]
     },
     "execution_count": 11,
     "metadata": {},
     "output_type": "execute_result"
    }
   ],
   "source": [
    "repeat('Напишите функцию функцию, которая которая будет будет будет удалять все все все все последовательные повторы слов из из из из заданной строки строки при помощи помощи регулярных выражений')"
   ]
  }
 ],
 "metadata": {
  "kernelspec": {
   "display_name": "Python 3 (ipykernel)",
   "language": "python",
   "name": "python3"
  },
  "language_info": {
   "codemirror_mode": {
    "name": "ipython",
    "version": 3
   },
   "file_extension": ".py",
   "mimetype": "text/x-python",
   "name": "python",
   "nbconvert_exporter": "python",
   "pygments_lexer": "ipython3",
   "version": "3.11.7"
  }
 },
 "nbformat": 4,
 "nbformat_minor": 5
}
