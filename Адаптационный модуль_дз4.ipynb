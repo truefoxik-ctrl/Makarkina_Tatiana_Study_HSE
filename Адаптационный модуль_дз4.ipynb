{
 "cells": [
  {
   "cell_type": "markdown",
   "id": "3896867e-f99f-4abc-a8fc-db2f9f28f3bd",
   "metadata": {},
   "source": [
    "# Задание 1"
   ]
  },
  {
   "cell_type": "code",
   "execution_count": 1,
   "id": "8dbc2c9d-4149-4195-8404-079c4e0ed6d9",
   "metadata": {},
   "outputs": [],
   "source": [
    "documents = [\n",
    "{'type': 'passport', 'number': '2207 876234',\n",
    "'name': 'Василий Гупкин'},\n",
    "{'type': 'invoice', 'number': '11-2',\n",
    "'name': 'Геннадий Покемонов'},\n",
    "{'type': 'insurance', 'number': '10006',\n",
    "'name': 'Аристарх Павлов'}\n",
    "]"
   ]
  },
  {
   "cell_type": "code",
   "execution_count": 2,
   "id": "53fe5545-e79f-49df-aa71-585888c78452",
   "metadata": {},
   "outputs": [],
   "source": [
    "### первая функция - цикл для проверки соответствия полученного номера документа имеющимся данным\n",
    "def doc_check():\n",
    "    num_doc = str(input('Введите номер документа: '))\n",
    "    \n",
    "    for i in documents:\n",
    "        if i['number'] == num_doc:\n",
    "            return i['name']"
   ]
  },
  {
   "cell_type": "code",
   "execution_count": 3,
   "id": "dcd32923-a8af-42cf-8e8c-d92e3aa0eda4",
   "metadata": {},
   "outputs": [],
   "source": [
    "### вторая функция - запуск/отключение самой программы\n",
    "def enable_doc_check():\n",
    "    comma = str(input('Введите команду: '))\n",
    "\n",
    "    if comma == 'p':\n",
    "        return doc_check()\n",
    "    if comma == 'q':\n",
    "        print('Выход из программы поиска')\n",
    "    else:\n",
    "        enable_doc_check()"
   ]
  },
  {
   "cell_type": "code",
   "execution_count": 4,
   "id": "6934db38-05dc-4697-8d20-de0cc54bd242",
   "metadata": {},
   "outputs": [
    {
     "name": "stdin",
     "output_type": "stream",
     "text": [
      "Введите команду:  p\n",
      "Введите номер документа:  11-2\n"
     ]
    },
    {
     "data": {
      "text/plain": [
       "'Геннадий Покемонов'"
      ]
     },
     "execution_count": 4,
     "metadata": {},
     "output_type": "execute_result"
    }
   ],
   "source": [
    "enable_doc_check()"
   ]
  },
  {
   "cell_type": "code",
   "execution_count": 5,
   "id": "bb1a0d4f-426e-4250-997e-69e55b880f5e",
   "metadata": {},
   "outputs": [
    {
     "name": "stdin",
     "output_type": "stream",
     "text": [
      "Введите команду:  q\n"
     ]
    },
    {
     "name": "stdout",
     "output_type": "stream",
     "text": [
      "Выход из программы поиска\n"
     ]
    }
   ],
   "source": [
    "enable_doc_check()"
   ]
  }
 ],
 "metadata": {
  "kernelspec": {
   "display_name": "Python 3 (ipykernel)",
   "language": "python",
   "name": "python3"
  },
  "language_info": {
   "codemirror_mode": {
    "name": "ipython",
    "version": 3
   },
   "file_extension": ".py",
   "mimetype": "text/x-python",
   "name": "python",
   "nbconvert_exporter": "python",
   "pygments_lexer": "ipython3",
   "version": "3.11.7"
  }
 },
 "nbformat": 4,
 "nbformat_minor": 5
}
