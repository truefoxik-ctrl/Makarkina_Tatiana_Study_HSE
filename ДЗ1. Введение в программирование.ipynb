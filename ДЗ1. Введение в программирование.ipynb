{
 "cells": [
  {
   "cell_type": "markdown",
   "id": "c6606256-3ba6-4ad1-99f9-510968f373a4",
   "metadata": {},
   "source": [
    "# Задание 1"
   ]
  },
  {
   "cell_type": "code",
   "execution_count": 17,
   "id": "3624c1a1-c092-4e46-9c9a-800b6b67fe8a",
   "metadata": {},
   "outputs": [],
   "source": [
    "def leap(year):\n",
    "    if year % 4 == 0:\n",
    "        print(f'{year} - Високосный год')\n",
    "    else:\n",
    "        print(f'{year} - Обычный год')"
   ]
  },
  {
   "cell_type": "code",
   "execution_count": 19,
   "id": "3fc154cc-8d11-4ce2-948b-af7f273fd30c",
   "metadata": {},
   "outputs": [
    {
     "name": "stdout",
     "output_type": "stream",
     "text": [
      "2022 - Обычный год\n"
     ]
    }
   ],
   "source": [
    "leap(2022)"
   ]
  },
  {
   "cell_type": "markdown",
   "id": "bf2e2fab-e635-4345-bf39-62e79309630f",
   "metadata": {},
   "source": [
    "# Задание 2"
   ]
  },
  {
   "cell_type": "code",
   "execution_count": 50,
   "id": "717419c8-9407-47bb-9851-e06d9a4c584b",
   "metadata": {},
   "outputs": [],
   "source": [
    "def ticket(number):\n",
    "    num = str(number)\n",
    "    first_half = 0\n",
    "    second_half = 0\n",
    "    \n",
    "    for char in num[0:3]:\n",
    "        first_half += int(char)\n",
    "    for chars in num[3:]:\n",
    "        second_half += int(chars)\n",
    "\n",
    "    if first_half == second_half:\n",
    "        print('Счастливый билет')\n",
    "    else:\n",
    "        print('Несчастливый билет')"
   ]
  },
  {
   "cell_type": "code",
   "execution_count": 52,
   "id": "9718bb64-443a-457b-972a-42ee6a37c89d",
   "metadata": {},
   "outputs": [
    {
     "name": "stdout",
     "output_type": "stream",
     "text": [
      "Счастливый билет\n"
     ]
    }
   ],
   "source": [
    "ticket(123321)"
   ]
  }
 ],
 "metadata": {
  "kernelspec": {
   "display_name": "Python 3 (ipykernel)",
   "language": "python",
   "name": "python3"
  },
  "language_info": {
   "codemirror_mode": {
    "name": "ipython",
    "version": 3
   },
   "file_extension": ".py",
   "mimetype": "text/x-python",
   "name": "python",
   "nbconvert_exporter": "python",
   "pygments_lexer": "ipython3",
   "version": "3.11.7"
  }
 },
 "nbformat": 4,
 "nbformat_minor": 5
}
