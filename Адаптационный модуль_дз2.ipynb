{
 "cells": [
  {
   "cell_type": "markdown",
   "id": "9a061942-accd-4d04-8dbe-bad3053bf25b",
   "metadata": {},
   "source": [
    "# Задание 1"
   ]
  },
  {
   "cell_type": "code",
   "execution_count": 1,
   "id": "bee4bb45-ed0b-440a-99aa-82d78db7cadb",
   "metadata": {},
   "outputs": [],
   "source": [
    "def letters(word):\n",
    "    num_letters = 0\n",
    "    for letter in word:\n",
    "        num_letters += 1\n",
    "    \n",
    "    if num_letters % 2 == 0:\n",
    "        x=(num_letters // 2)\n",
    "        z=(x-1)\n",
    "        return word[x-1:x+1]\n",
    "    else:\n",
    "        y=(num_letters // 2) \n",
    "        return word[y]"
   ]
  },
  {
   "cell_type": "code",
   "execution_count": 2,
   "id": "c62f4703-f71f-4594-a09f-8677b6850cfd",
   "metadata": {},
   "outputs": [
    {
     "data": {
      "text/plain": [
       "'es'"
      ]
     },
     "execution_count": 2,
     "metadata": {},
     "output_type": "execute_result"
    }
   ],
   "source": [
    "letters('test')"
   ]
  },
  {
   "cell_type": "code",
   "execution_count": 3,
   "id": "56abf5e6-8095-47a7-9b53-7aa37444cafa",
   "metadata": {},
   "outputs": [
    {
     "data": {
      "text/plain": [
       "'a'"
      ]
     },
     "execution_count": 3,
     "metadata": {},
     "output_type": "execute_result"
    }
   ],
   "source": [
    "letters('balance')"
   ]
  },
  {
   "cell_type": "markdown",
   "id": "383ff7ca-8a0a-4751-8acd-c384f0550e8a",
   "metadata": {},
   "source": [
    "# Задание 2"
   ]
  },
  {
   "cell_type": "code",
   "execution_count": 4,
   "id": "59208154-55b9-4dd2-bc28-0c3ccb44f307",
   "metadata": {},
   "outputs": [],
   "source": [
    "def dating(girl, boy):\n",
    "    if len(girl) != len(boy):\n",
    "        print('Внимание! Кто-то может остаться без пары!')\n",
    "    else:\n",
    "        g=sorted(girl)\n",
    "        b=sorted(boy)\n",
    "\n",
    "        for i in range(len(g)):\n",
    "            print(g[i], b[i])"
   ]
  },
  {
   "cell_type": "code",
   "execution_count": 5,
   "id": "f15d1cbc-458d-4fc2-91ab-2190c2ecda51",
   "metadata": {},
   "outputs": [],
   "source": [
    "girl = ['Kate', 'Liza', 'Kira', 'Emma', 'Ann']\n",
    "boy = ['Peter', 'Alex', 'John', 'Arthur', 'Richard']"
   ]
  },
  {
   "cell_type": "code",
   "execution_count": 6,
   "id": "38ebc8f9-9c87-45fc-9210-5af9f3c3b0aa",
   "metadata": {},
   "outputs": [
    {
     "name": "stdout",
     "output_type": "stream",
     "text": [
      "Ann Alex\n",
      "Emma Arthur\n",
      "Kate John\n",
      "Kira Peter\n",
      "Liza Richard\n"
     ]
    }
   ],
   "source": [
    "dating(girl, boy)"
   ]
  },
  {
   "cell_type": "code",
   "execution_count": 7,
   "id": "56aa8fdd-11f9-46d0-b841-2a43c311c687",
   "metadata": {},
   "outputs": [],
   "source": [
    "girl = ['Kate', 'Liza', 'Kira', 'Emma', 'Ann', 'Sara']\n",
    "boy = ['Peter', 'Alex', 'John', 'Arthur', 'Richard']"
   ]
  },
  {
   "cell_type": "code",
   "execution_count": 8,
   "id": "3954c91a-c472-4164-992e-f73e098ca3b5",
   "metadata": {},
   "outputs": [
    {
     "name": "stdout",
     "output_type": "stream",
     "text": [
      "Внимание! Кто-то может остаться без пары!\n"
     ]
    }
   ],
   "source": [
    "dating(girl, boy)"
   ]
  }
 ],
 "metadata": {
  "kernelspec": {
   "display_name": "Python 3 (ipykernel)",
   "language": "python",
   "name": "python3"
  },
  "language_info": {
   "codemirror_mode": {
    "name": "ipython",
    "version": 3
   },
   "file_extension": ".py",
   "mimetype": "text/x-python",
   "name": "python",
   "nbconvert_exporter": "python",
   "pygments_lexer": "ipython3",
   "version": "3.11.7"
  }
 },
 "nbformat": 4,
 "nbformat_minor": 5
}
